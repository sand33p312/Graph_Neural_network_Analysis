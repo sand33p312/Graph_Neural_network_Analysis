{
 "cells": [
  {
   "cell_type": "code",
   "execution_count": null,
   "metadata": {
    "vscode": {
     "languageId": "plaintext"
    }
   },
   "outputs": [],
   "source": [
    "import os\n",
    "import pandas as pd \n",
    "import matplotlib.pyplot as plt\n",
    "\n",
    "# Reddit dataset\n",
    "dataset_directory = \"/Users/sandeep/.cache/kagglehub/datasets/spectrumpositive/praw-scrapings-from-ramitheasshole/versions/1\"\n",
    "\n",
    "# list of all folders in dataset_directory by dates\n",
    "dataset_folders_by_date = os.listdir(dataset_directory)\n",
    "\n",
    "# load all data\n",
    "all_data=[]\n",
    "\n",
    "for date in dataset_folders_by_date:\n",
    "    folder_path = os.path.join(dataset_directory,date)\n",
    "    data_by_date = []\n",
    "    for file in os.listdir(folder_path):\n",
    "        file_path = os.path.join(folder_path,file)\n",
    "        df = pd.read_csv(file_path)\n",
    "        data_by_date.append(df)\n",
    "    all_data.append(data_by_date)\n",
    "\n",
    "print(f'Dataset: {all_data}')"
   ]
  }
 ],
 "metadata": {
  "language_info": {
   "name": "python"
  }
 },
 "nbformat": 4,
 "nbformat_minor": 2
}
